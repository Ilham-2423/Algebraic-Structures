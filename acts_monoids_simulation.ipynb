{
 "cells": [
  {
   "cell_type": "markdown",
   "id": "98a1e02a",
   "metadata": {},
   "source": [
    "# Study of Acts Over Monoids\n",
    "This notebook simulates a basic monoid operation and how a monoid acts on a set (S-act).\n",
    "The monoid operation is defined over Z₃ (integers modulo 3), and the action demonstrates how elements are transformed.\n"
   ]
  },
  {
   "cell_type": "code",
   "execution_count": null,
   "id": "49a83fd6",
   "metadata": {},
   "outputs": [],
   "source": [
    "# Define a monoid with an identity element and binary operation\n",
    "monoid_elements = [0, 1, 2]  # Elements of Z₃\n",
    "identity = 0\n",
    "\n",
    "def monoid_op(a, b):\n",
    "    return (a + b) % 3  # Monoid operation: addition modulo 3\n",
    "\n",
    "# Test monoid operation\n",
    "print(\"Monoid Operation Table (Z₃):\")\n",
    "for a in monoid_elements:\n",
    "    for b in monoid_elements:\n",
    "        print(f\"{a} + {b} ≡ {monoid_op(a, b)} (mod 3)\")\n"
   ]
  },
  {
   "cell_type": "markdown",
   "id": "bc47afa0",
   "metadata": {},
   "source": [
    "## S-Act Simulation\n",
    "Define a simple S-act where a monoid acts on a finite set of elements. The action rotates elements based on the monoid value.\n"
   ]
  },
  {
   "cell_type": "code",
   "execution_count": null,
   "id": "7418b69f",
   "metadata": {},
   "outputs": [],
   "source": [
    "# Define an S-act: a set with a monoid acting on it\n",
    "S_act = ['x', 'y', 'z']\n",
    "\n",
    "def act_action(m, s):\n",
    "    # Rotates the position of element s based on monoid value m\n",
    "    index = S_act.index(s)\n",
    "    return S_act[(index + m) % len(S_act)]\n",
    "\n",
    "# Simulate actions\n",
    "print(\"\\nS-Act Simulation:\")\n",
    "for m in monoid_elements:\n",
    "    for s in S_act:\n",
    "        print(f\"{m} * {s} = {act_action(m, s)}\")\n"
   ]
  },
  {
   "cell_type": "markdown",
   "id": "97fbc322",
   "metadata": {},
   "source": [
    "---\n",
    "This simulation reflects a conceptual application of monoid action on a set. It's an abstract but foundational idea in algebra with connections to automata theory and symmetry operations in physics."
   ]
  }
 ],
 "metadata": {},
 "nbformat": 4,
 "nbformat_minor": 5
}
